{
  "nbformat": 4,
  "nbformat_minor": 0,
  "metadata": {
    "colab": {
      "provenance": []
    },
    "kernelspec": {
      "name": "python3",
      "display_name": "Python 3"
    },
    "language_info": {
      "name": "python"
    }
  },
  "cells": [
    {
      "cell_type": "markdown",
      "source": [
        "1. What is the difference between interpreted and compiled languages?\n",
        "\n",
        "  Interpreted languages (like Python) execute code line-by-line at runtime.\n",
        "\n",
        "  Compiled languages (like C/C++) convert the entire code into machine code before execution.\n",
        "\n",
        "2. What is exception handling in Python?\n",
        "\n",
        "   Exception handling allows a program to respond to runtime errors using try, except, finally, and else blocks.\n",
        "\n",
        "3. What is the purpose of the finally block in exception handling?\n",
        "\n",
        "   The finally block is always executed, regardless of whether an exception occurred or not. It's used for cleanup actions like closing files.\n",
        "\n",
        "4. What is logging in Python?\n",
        "\n",
        "  Logging records events that happen when software runs. Python’s logging module helps track events for debugging and monitoring.\n",
        "\n",
        "5. What is the significance of the __del__ method in Python?\n",
        "\n",
        "   __del__ is a destructor method called when an object is deleted or garbage collected.\n",
        "\n",
        "6. What is the difference between import and from ... import in Python?\n",
        "\n",
        "   import module: imports the entire module.\n",
        "   from module import function: imports specific components directly.\n",
        "\n",
        "7. How can you handle multiple exceptions in Python?\n",
        "    \n",
        "   except (TypeError, ValueError) as e:\n",
        "    print(e)\n",
        "\n",
        "8. What is the purpose of the with statement when handling files in Python?\n",
        "\n",
        "   It ensures proper acquisition and release of resources (like closing files automatically).\n",
        "\n",
        "9. What is the difference between multithreading and multiprocessing?\n",
        "\n",
        "   Multithreading: Multiple threads in one process (shared memory).\n",
        "\n",
        "   Multiprocessing: Multiple processes with separate memory (better for CPU-bound tasks).\n",
        "\n",
        "10. What are the advantages of using logging in a program?\n",
        "  Easier debugging\n",
        "\n",
        "  Monitoring application behavior\n",
        "\n",
        "  Less intrusive than print()\n",
        "\n",
        "11. What is memory management in Python?\n",
        "\n",
        "  Python handles memory allocation and deallocation using automatic garbage collection and reference counting.\n",
        "\n",
        "12. What are the basic steps involved in exception handling in Python?\n",
        "   Use try to enclose risky code.\n",
        "\n",
        "   Catch exceptions using except.\n",
        "\n",
        "   Use else for code to run if no exception occurs.\n",
        "\n",
        "   Use finally for cleanup.\n",
        "\n",
        "13. Why is memory management important in Python?\n",
        "\n",
        "   Efficient memory use ensures better performance and avoids memory leaks.\n",
        "\n",
        "14. What is the role of try and except in exception handling?\n",
        "\n",
        "   They catch and handle errors to prevent crashes.\n",
        "\n",
        "15. How does Python's garbage collection system work?\n",
        "\n",
        "   It uses reference counting and cyclic garbage collector to reclaim memory from unused objects.\n",
        "\n",
        "16. What is the purpose of the else block in exception handling?\n",
        "\n",
        "   It runs code if the try block succeeds without exceptions.\n",
        "\n",
        "17. What are the common logging levels in Python?\n",
        "  DEBUG\n",
        "\n",
        "  INFO\n",
        "\n",
        "  WARNING\n",
        "\n",
        "  ERROR\n",
        "\n",
        " CRITICAL\n",
        "\n",
        "18. What is the difference between os.fork() and multiprocessing in Python?\n",
        "\n",
        "   os.fork() (Unix-only) creates a child process.\n",
        "\n",
        "   multiprocessing module is cross-platform and more flexible.\n",
        "\n",
        "19. What is the importance of closing a file in Python?\n",
        "\n",
        "   To free system resources and ensure data is written properly.\n",
        "\n",
        "20. What is the difference between file.read() and file.readline() in Python?\n",
        "\n",
        "   read() reads the entire file.\n",
        "\n",
        "   readline() reads a single line.\n",
        "\n",
        "21. What is the logging module in Python used for?\n",
        "\n",
        "   It allows tracking events, debugging, and maintaining logs in different formats and levels.\n",
        "\n",
        "22. What is the os module in Python used for in file handling?\n",
        "\n",
        "   It provides functions for interacting with the operating system like file manipulation, directory navigation, etc.\n",
        "\n",
        "23. What are the challenges associated with memory management in Python?\n",
        "   \n",
        "   Circular references\n",
        "\n",
        "   High memory usage with large data\n",
        "\n",
        "   Garbage collector overhead\n",
        "\n",
        "24. How do you raise an exception manually in Python?\n",
        "\n",
        "  \n",
        "raise ValueError(\"Custom error message\")\n",
        "\n",
        "25. Why is it important to use multithreading in certain applications?\n",
        "  \n",
        "  Multithreading is useful for I/O-bound operations like file and network operations, improving performance.\n",
        "\n"
      ],
      "metadata": {
        "id": "yt0AesvE9h_F"
      }
    },
    {
      "cell_type": "code",
      "source": [],
      "metadata": {
        "id": "bgmOJeS7ATaV"
      },
      "execution_count": null,
      "outputs": []
    },
    {
      "cell_type": "code",
      "source": [],
      "metadata": {
        "id": "IZm93Z-NAWE9"
      },
      "execution_count": null,
      "outputs": []
    },
    {
      "cell_type": "code",
      "source": [
        "#1. Open a file for writing and write a string:\n",
        "with open(\"example.txt\", \"w\") as f:\n",
        "    f.write(\"Hello, Python!\")\n"
      ],
      "metadata": {
        "id": "wRASrKu0AWIe"
      },
      "execution_count": 1,
      "outputs": []
    },
    {
      "cell_type": "code",
      "source": [
        "#2. Read contents of a file and print each line:\n",
        "with open(\"example.txt\", \"r\") as f:\n",
        "    for line in f:\n",
        "        print(line.strip())\n"
      ],
      "metadata": {
        "colab": {
          "base_uri": "https://localhost:8080/"
        },
        "id": "jS82KVVZBsje",
        "outputId": "eaa67295-0b27-41e9-ed3d-c7f068ef489e"
      },
      "execution_count": 2,
      "outputs": [
        {
          "output_type": "stream",
          "name": "stdout",
          "text": [
            "Hello, Python!\n"
          ]
        }
      ]
    },
    {
      "cell_type": "code",
      "source": [
        "#3. Handle a case where file doesn’t exist:\n",
        "try:\n",
        "    with open(\"nonexistent.txt\", \"r\") as f:\n",
        "        content = f.read()\n",
        "except FileNotFoundError:\n",
        "    print(\"File not found.\")\n"
      ],
      "metadata": {
        "colab": {
          "base_uri": "https://localhost:8080/"
        },
        "id": "Q0PBQqFtCB2F",
        "outputId": "14c90dcf-a64a-4422-ea3c-88599d1f1c85"
      },
      "execution_count": 3,
      "outputs": [
        {
          "output_type": "stream",
          "name": "stdout",
          "text": [
            "File not found.\n"
          ]
        }
      ]
    },
    {
      "cell_type": "code",
      "source": [
        "#4. Read from one file and write to another:\n",
        "with open(\"source.txt\", \"r\") as src, open(\"destination.txt\", \"w\") as dest:\n",
        "    dest.write(src.read())\n"
      ],
      "metadata": {
        "colab": {
          "base_uri": "https://localhost:8080/",
          "height": 176
        },
        "id": "1gAZXmQCENiK",
        "outputId": "cce809f1-1102-4c48-b1a5-4366e8095baa"
      },
      "execution_count": 8,
      "outputs": [
        {
          "output_type": "error",
          "ename": "FileNotFoundError",
          "evalue": "[Errno 2] No such file or directory: 'source.txt'",
          "traceback": [
            "\u001b[0;31m---------------------------------------------------------------------------\u001b[0m",
            "\u001b[0;31mFileNotFoundError\u001b[0m                         Traceback (most recent call last)",
            "\u001b[0;32m<ipython-input-8-0b7575ed6be6>\u001b[0m in \u001b[0;36m<cell line: 0>\u001b[0;34m()\u001b[0m\n\u001b[1;32m      1\u001b[0m \u001b[0;31m#4. Read from one file and write to another:\u001b[0m\u001b[0;34m\u001b[0m\u001b[0;34m\u001b[0m\u001b[0m\n\u001b[0;32m----> 2\u001b[0;31m \u001b[0;32mwith\u001b[0m \u001b[0mopen\u001b[0m\u001b[0;34m(\u001b[0m\u001b[0;34m\"source.txt\"\u001b[0m\u001b[0;34m,\u001b[0m \u001b[0;34m\"r\"\u001b[0m\u001b[0;34m)\u001b[0m \u001b[0;32mas\u001b[0m \u001b[0msrc\u001b[0m\u001b[0;34m,\u001b[0m \u001b[0mopen\u001b[0m\u001b[0;34m(\u001b[0m\u001b[0;34m\"destination.txt\"\u001b[0m\u001b[0;34m,\u001b[0m \u001b[0;34m\"w\"\u001b[0m\u001b[0;34m)\u001b[0m \u001b[0;32mas\u001b[0m \u001b[0mdest\u001b[0m\u001b[0;34m:\u001b[0m\u001b[0;34m\u001b[0m\u001b[0;34m\u001b[0m\u001b[0m\n\u001b[0m\u001b[1;32m      3\u001b[0m     \u001b[0mdest\u001b[0m\u001b[0;34m.\u001b[0m\u001b[0mwrite\u001b[0m\u001b[0;34m(\u001b[0m\u001b[0msrc\u001b[0m\u001b[0;34m.\u001b[0m\u001b[0mread\u001b[0m\u001b[0;34m(\u001b[0m\u001b[0;34m)\u001b[0m\u001b[0;34m)\u001b[0m\u001b[0;34m\u001b[0m\u001b[0;34m\u001b[0m\u001b[0m\n",
            "\u001b[0;31mFileNotFoundError\u001b[0m: [Errno 2] No such file or directory: 'source.txt'"
          ]
        }
      ]
    },
    {
      "cell_type": "code",
      "source": [
        "#5. Catch and handle division by zero:\n",
        "try:\n",
        "    result = 10 / 0\n",
        "except ZeroDivisionError:\n",
        "    print(\"Cannot divide by zero.\")\n"
      ],
      "metadata": {
        "colab": {
          "base_uri": "https://localhost:8080/"
        },
        "id": "alqS80N5EprC",
        "outputId": "a64490f8-52d8-45d0-b1e6-4a074b882209"
      },
      "execution_count": 7,
      "outputs": [
        {
          "output_type": "stream",
          "name": "stdout",
          "text": [
            "Cannot divide by zero.\n"
          ]
        }
      ]
    },
    {
      "cell_type": "code",
      "source": [
        "#6. Log error on division by zero:\n",
        "import logging\n",
        "logging.basicConfig(filename='app.log', level=logging.ERROR)\n",
        "\n",
        "try:\n",
        "    x = 1 / 0\n",
        "except ZeroDivisionError:\n",
        "    logging.error(\"Division by zero occurred.\")\n",
        "import logging\n",
        "logging.basicConfig(filename='app.log', level=logging.ERROR)\n",
        "\n",
        "try:\n",
        "    x = 1 / 0\n",
        "except ZeroDivisionError:\n",
        "    logging.error(\"Division by zero occurred.\")\n"
      ],
      "metadata": {
        "colab": {
          "base_uri": "https://localhost:8080/"
        },
        "id": "--xFgwarE6JY",
        "outputId": "3ed43556-912a-48f0-b8bc-d7192ab8c979"
      },
      "execution_count": 9,
      "outputs": [
        {
          "output_type": "stream",
          "name": "stderr",
          "text": [
            "ERROR:root:Division by zero occurred.\n",
            "ERROR:root:Division by zero occurred.\n"
          ]
        }
      ]
    },
    {
      "cell_type": "code",
      "source": [
        "#7. Log at different levels (INFO, ERROR, WARNING):\n",
        "import logging\n",
        "\n",
        "logging.basicConfig(level=logging.DEBUG)\n",
        "\n",
        "logging.info(\"This is an info message.\")\n",
        "logging.warning(\"This is a warning.\")\n",
        "logging.error(\"This is an error.\")\n"
      ],
      "metadata": {
        "colab": {
          "base_uri": "https://localhost:8080/"
        },
        "id": "e2EDkKeSFV5b",
        "outputId": "b618ce4f-99cb-410c-94f7-20dbc827049c"
      },
      "execution_count": 10,
      "outputs": [
        {
          "output_type": "stream",
          "name": "stderr",
          "text": [
            "WARNING:root:This is a warning.\n",
            "ERROR:root:This is an error.\n"
          ]
        }
      ]
    },
    {
      "cell_type": "code",
      "source": [
        "#8. Handle file opening error using exception:\n",
        "try:\n",
        "    with open(\"file.txt\", \"r\") as f:\n",
        "        print(f.read())\n",
        "except IOError:\n",
        "    print(\"Failed to open file.\")\n"
      ],
      "metadata": {
        "colab": {
          "base_uri": "https://localhost:8080/"
        },
        "id": "quF_fAEeFoyS",
        "outputId": "a899a38e-6465-4218-f759-f2b7f4663256"
      },
      "execution_count": 11,
      "outputs": [
        {
          "output_type": "stream",
          "name": "stdout",
          "text": [
            "Failed to open file.\n"
          ]
        }
      ]
    },
    {
      "cell_type": "code",
      "source": [
        "#9. Read file line-by-line into list:\n",
        "lines = []\n",
        "with open(\"example.txt\", \"r\") as f:\n",
        "    lines = f.readlines()\n"
      ],
      "metadata": {
        "id": "2gdxoZBcFyKJ"
      },
      "execution_count": 13,
      "outputs": []
    },
    {
      "cell_type": "code",
      "source": [
        "#10. Append data to existing file:\n",
        "with open(\"example.txt\", \"a\") as f:\n",
        "    f.write(\"\\nAppending this line.\")\n"
      ],
      "metadata": {
        "id": "UZF__rX3F5Sg"
      },
      "execution_count": 14,
      "outputs": []
    },
    {
      "cell_type": "code",
      "source": [
        "#11. Try-except for missing dictionary key:\n",
        "data = {\"name\": \"Alice\"}\n",
        "\n",
        "try:\n",
        "    print(data[\"age\"])\n",
        "except KeyError:\n",
        "    print(\"Key not found.\")\n"
      ],
      "metadata": {
        "colab": {
          "base_uri": "https://localhost:8080/"
        },
        "id": "f4MU-w5aGD9u",
        "outputId": "6bb7f72e-ecb6-4203-a83d-b56854c594f7"
      },
      "execution_count": 15,
      "outputs": [
        {
          "output_type": "stream",
          "name": "stdout",
          "text": [
            "Key not found.\n"
          ]
        }
      ]
    },
    {
      "cell_type": "code",
      "source": [
        "#12. Multiple except blocks:\n",
        "try:\n",
        "    x = int(\"abc\")\n",
        "except ValueError:\n",
        "    print(\"Value error occurred.\")\n",
        "except TypeError:\n",
        "    print(\"Type error occurred.\")\n"
      ],
      "metadata": {
        "colab": {
          "base_uri": "https://localhost:8080/"
        },
        "id": "_2zEfi57GNSq",
        "outputId": "d9f55e75-c4d8-42ca-b8f5-fb46cb4682dd"
      },
      "execution_count": 16,
      "outputs": [
        {
          "output_type": "stream",
          "name": "stdout",
          "text": [
            "Value error occurred.\n"
          ]
        }
      ]
    },
    {
      "cell_type": "code",
      "source": [
        "#13. Check if file exists before reading:\n",
        "import os\n",
        "\n",
        "if os.path.exists(\"example.txt\"):\n",
        "    with open(\"example.txt\", \"r\") as f:\n",
        "        print(f.read())\n",
        "else:\n",
        "    print(\"File does not exist.\")\n"
      ],
      "metadata": {
        "colab": {
          "base_uri": "https://localhost:8080/"
        },
        "id": "noJk-FcrG7np",
        "outputId": "e6b1570a-7bb4-4e9f-db38-09612d67bce9"
      },
      "execution_count": 17,
      "outputs": [
        {
          "output_type": "stream",
          "name": "stdout",
          "text": [
            "Hello, Python!\n",
            "Appending this line.\n"
          ]
        }
      ]
    },
    {
      "cell_type": "code",
      "source": [
        "#14. Use logging for info and error:\n",
        "import logging\n",
        "\n",
        "logging.basicConfig(level=logging.DEBUG)\n",
        "logging.info(\"Informational message.\")\n",
        "logging.error(\"An error occurred.\")\n"
      ],
      "metadata": {
        "colab": {
          "base_uri": "https://localhost:8080/"
        },
        "id": "viIwWKVsHHAX",
        "outputId": "1c3bd037-b0be-4e17-f479-e83ab7626df2"
      },
      "execution_count": 18,
      "outputs": [
        {
          "output_type": "stream",
          "name": "stderr",
          "text": [
            "ERROR:root:An error occurred.\n"
          ]
        }
      ]
    },
    {
      "cell_type": "code",
      "source": [
        "#15. Print content and handle empty file:\n",
        "with open(\"example.txt\", \"r\") as f:\n",
        "    content = f.read()\n",
        "    if content:\n",
        "        print(content)\n",
        "    else:\n",
        "        print(\"File is empty.\")\n"
      ],
      "metadata": {
        "colab": {
          "base_uri": "https://localhost:8080/"
        },
        "id": "QM3LnD6yHQ0T",
        "outputId": "f8dedd6d-593e-4c67-9acf-bfc82d26b07c"
      },
      "execution_count": 19,
      "outputs": [
        {
          "output_type": "stream",
          "name": "stdout",
          "text": [
            "Hello, Python!\n",
            "Appending this line.\n"
          ]
        }
      ]
    },
    {
      "cell_type": "code",
      "source": [
        "#16. Memory profiling example:\n",
        "import tracemalloc\n",
        "\n",
        "tracemalloc.start()\n",
        "\n",
        "def example():\n",
        "    x = [i for i in range(10000)]\n",
        "    return x\n",
        "\n",
        "example()\n",
        "print(tracemalloc.get_traced_memory())\n",
        "tracemalloc.stop()\n"
      ],
      "metadata": {
        "colab": {
          "base_uri": "https://localhost:8080/"
        },
        "id": "f-aHQWfVHYL6",
        "outputId": "1c9a7a03-ecdb-4c8c-9353-8af70f43d538"
      },
      "execution_count": 20,
      "outputs": [
        {
          "output_type": "stream",
          "name": "stdout",
          "text": [
            "(3876, 400857)\n"
          ]
        }
      ]
    },
    {
      "cell_type": "code",
      "source": [
        "#17. Write list of numbers to file:\n",
        "with open(\"numbers.txt\", \"w\") as f:\n",
        "    for i in range(1, 11):\n",
        "        f.write(f\"{i}\\n\")\n"
      ],
      "metadata": {
        "id": "Ul_Ts2PmHqKx"
      },
      "execution_count": 21,
      "outputs": []
    },
    {
      "cell_type": "code",
      "source": [
        "#18. Basic logging with rotation:\n",
        "import logging\n",
        "from logging.handlers import RotatingFileHandler\n",
        "\n",
        "handler = RotatingFileHandler(\"logfile.log\", maxBytes=1024, backupCount=3)\n",
        "logger = logging.getLogger()\n",
        "logger.setLevel(logging.INFO)\n",
        "logger.addHandler(handler)\n",
        "\n",
        "logger.info(\"Logging with rotation.\")\n"
      ],
      "metadata": {
        "colab": {
          "base_uri": "https://localhost:8080/"
        },
        "id": "6VVDTXQBH5AP",
        "outputId": "081e8406-4767-4e9f-dc1e-ea850d85129e"
      },
      "execution_count": 22,
      "outputs": [
        {
          "output_type": "stream",
          "name": "stderr",
          "text": [
            "INFO:root:Logging with rotation.\n"
          ]
        }
      ]
    },
    {
      "cell_type": "code",
      "source": [
        "#19. Handle IndexError and KeyError:\n",
        "try:\n",
        "    lst = [1, 2, 3]\n",
        "    print(lst[5])\n",
        "    d = {\"a\": 1}\n",
        "    print(d[\"b\"])\n",
        "except IndexError:\n",
        "    print(\"Index error!\")\n",
        "except KeyError:\n",
        "    print(\"Key error!\")\n"
      ],
      "metadata": {
        "colab": {
          "base_uri": "https://localhost:8080/"
        },
        "id": "2c2n_MwwIBGJ",
        "outputId": "41918337-c9fa-4490-f2f5-f79fd277eec1"
      },
      "execution_count": 23,
      "outputs": [
        {
          "output_type": "stream",
          "name": "stdout",
          "text": [
            "Index error!\n"
          ]
        }
      ]
    },
    {
      "cell_type": "code",
      "source": [
        "#20. Open file with context manager:\n",
        "with open(\"example.txt\", \"r\") as f:\n",
        "    print(f.read())\n"
      ],
      "metadata": {
        "colab": {
          "base_uri": "https://localhost:8080/"
        },
        "id": "wvEFEuKjIK93",
        "outputId": "b5df80e7-1c96-4347-e2de-271a75c32670"
      },
      "execution_count": 24,
      "outputs": [
        {
          "output_type": "stream",
          "name": "stdout",
          "text": [
            "Hello, Python!\n",
            "Appending this line.\n"
          ]
        }
      ]
    },
    {
      "cell_type": "code",
      "source": [
        "#21. Read file and count occurrences of a word:\n",
        "word = \"Python\"\n",
        "count = 0\n",
        "with open(\"example.txt\", \"r\") as f:\n",
        "    for line in f:\n",
        "        count += line.count(word)\n",
        "print(f\"Occurrences of '{word}':\", count)\n"
      ],
      "metadata": {
        "colab": {
          "base_uri": "https://localhost:8080/"
        },
        "id": "ZYx-P_FuISmt",
        "outputId": "d6571b9a-c984-4868-a466-2ab3430025cd"
      },
      "execution_count": 25,
      "outputs": [
        {
          "output_type": "stream",
          "name": "stdout",
          "text": [
            "Occurrences of 'Python': 1\n"
          ]
        }
      ]
    },
    {
      "cell_type": "code",
      "source": [
        "#22. Check if file exists before reading:\n",
        "import os\n",
        "\n",
        "if os.path.isfile(\"example.txt\"):\n",
        "    with open(\"example.txt\", \"r\") as f:\n",
        "        print(f.read())\n",
        "else:\n",
        "    print(\"File does not exist.\")\n"
      ],
      "metadata": {
        "colab": {
          "base_uri": "https://localhost:8080/"
        },
        "id": "GrZ8-QjqIZgL",
        "outputId": "e077d3a1-d8bf-405a-a891-e920cd090361"
      },
      "execution_count": 26,
      "outputs": [
        {
          "output_type": "stream",
          "name": "stdout",
          "text": [
            "Hello, Python!\n",
            "Appending this line.\n"
          ]
        }
      ]
    },
    {
      "cell_type": "code",
      "source": [
        "#23. Write to log file on error using exception:\n",
        "import logging\n",
        "\n",
        "logging.basicConfig(filename=\"error.log\", level=logging.ERROR)\n",
        "\n",
        "try:\n",
        "    a = 1 / 0\n",
        "except ZeroDivisionError as e:\n",
        "    logging.error(f\"An error occurred: {e}\")\n"
      ],
      "metadata": {
        "colab": {
          "base_uri": "https://localhost:8080/"
        },
        "id": "lQWocAcMIgnw",
        "outputId": "a7617d35-c2d6-4ffb-c118-3ebd5753d991"
      },
      "execution_count": 27,
      "outputs": [
        {
          "output_type": "stream",
          "name": "stderr",
          "text": [
            "ERROR:root:An error occurred: division by zero\n"
          ]
        }
      ]
    },
    {
      "cell_type": "code",
      "source": [],
      "metadata": {
        "id": "5kObtUKNInzU"
      },
      "execution_count": null,
      "outputs": []
    }
  ]
}